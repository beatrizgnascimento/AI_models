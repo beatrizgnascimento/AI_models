{
  "nbformat": 4,
  "nbformat_minor": 0,
  "metadata": {
    "colab": {
      "provenance": []
    },
    "kernelspec": {
      "name": "python3",
      "display_name": "Python 3"
    },
    "language_info": {
      "name": "python"
    }
  },
  "cells": [
    {
      "cell_type": "code",
      "execution_count": null,
      "metadata": {
        "id": "Z2JItPoTdVPk",
        "outputId": "4079d3dc-4c89-4c53-fb70-15473bb7bb9e",
        "colab": {
          "base_uri": "https://localhost:8080/"
        }
      },
      "outputs": [
        {
          "output_type": "stream",
          "name": "stdout",
          "text": [
            "Iteração 1: w1=0.1, w2=0.2, b=0.19999999999999998, erro_total=1\n",
            "Iteração 2: w1=0.1, w2=0.2, b=0.09999999999999998, erro_total=1\n",
            "Iteração 3: w1=0.1, w2=0.2, b=-2.7755575615628914e-17, erro_total=1\n",
            "Iteração 4: w1=0.1, w2=0.2, b=-2.7755575615628914e-17, erro_total=0\n",
            "Convergência atingida!\n"
          ]
        }
      ],
      "source": [
        "# Dados\n",
        "amostras = [\n",
        "    (0, 0, 0),\n",
        "    (0, 1, 1),\n",
        "    (1, 0, 1),\n",
        "    (1, 1, 1)\n",
        "]\n",
        "\n",
        "# Inicialização\n",
        "w1, w2, b = 0, 0, 0\n",
        "eta = 1\n",
        "\n",
        "for iteracao in range(10):  # máx 10 iterações\n",
        "    erro_total = 0\n",
        "    for x1, x2, y in amostras:\n",
        "        # Saída linear\n",
        "        s = w1 * x1 + w2 * x2 + b\n",
        "        # Saída da ativação\n",
        "        y_pred = 1 if s >= 0 else 0\n",
        "        # Erro\n",
        "        erro = y - y_pred\n",
        "        erro_total += abs(erro)\n",
        "        # Atualização\n",
        "        w1 += eta * erro * x1\n",
        "        w2 += eta * erro * x2\n",
        "        b += eta * erro\n",
        "    print(f\"Iteração {iteracao+1}: w1={w1}, w2={w2}, b={b}, erro_total={erro_total}\")\n",
        "    if erro_total == 0:\n",
        "        print(\"Convergência atingida!\")\n",
        "        break\n"
      ]
    }
  ]
}