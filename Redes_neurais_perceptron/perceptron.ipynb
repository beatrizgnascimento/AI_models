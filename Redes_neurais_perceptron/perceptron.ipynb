{
  "nbformat": 4,
  "nbformat_minor": 0,
  "metadata": {
    "colab": {
      "provenance": []
    },
    "kernelspec": {
      "name": "python3",
      "display_name": "Python 3"
    },
    "language_info": {
      "name": "python"
    }
  },
  "cells": [
    {
      "cell_type": "code",
      "execution_count": null,
      "metadata": {
        "colab": {
          "base_uri": "https://localhost:8080/"
        },
        "id": "q_WJeSfoYeSo",
        "outputId": "eb06fd4f-917b-4480-9764-16c2e1a48590"
      },
      "outputs": [
        {
          "output_type": "stream",
          "name": "stdout",
          "text": [
            "Iteração 1: w=[-1, 1, 0, 1], b=-1, erro_total=3\n",
            "Iteração 2: w=[-1, 1, 0, 1], b=-1, erro_total=0\n",
            "Convergência atingida!\n"
          ]
        }
      ],
      "source": [
        "# Amostras: (Quente, Macio, Líquido, Açúcar, Classe)\n",
        "#amostras = [\n",
        "#    (1, 1, 1, 1, 1),  # chocolate quente\n",
        "#    (0, 0, 0, 0, 0),  # biscoito salgado\n",
        "#    (0, 1, 0, 1, 1),  # doce de leite\n",
        "#    (1, 0, 0, 0, 0),  # pão de queijo\n",
        "#    (0, 0, 0, 0, 1),  # maçã\n",
        "#]\n",
        "\n",
        "amostras = [\n",
        "    (1, 1, 1, 1, 1),  # chocolate quente\n",
        "    (0, 0, 0, 0, 0),  # biscoito salgado\n",
        "    (0, 1, 0, 1, 1),  # doce de leite\n",
        "    (1, 0, 0, 0, 0),  # pão de queijo\n",
        "]\n",
        "\n",
        "# Inicialização\n",
        "w = [0, 0, 0, 0]\n",
        "b = 0\n",
        "eta = 1\n",
        "\n",
        "for iteracao in range(100):\n",
        "    erro_total = 0\n",
        "    for x1, x2, x3, x4, y in amostras:\n",
        "        s = w[0]*x1 + w[1]*x2 + w[2]*x3 + w[3]*x4 + b\n",
        "        y_pred = 1 if s >= 0 else 0\n",
        "        erro = y - y_pred\n",
        "        erro_total += abs(erro)\n",
        "        # Atualização\n",
        "        w[0] += eta * erro * x1\n",
        "        w[1] += eta * erro * x2\n",
        "        w[2] += eta * erro * x3\n",
        "        w[3] += eta * erro * x4\n",
        "        b += eta * erro\n",
        "    print(f\"Iteração {iteracao+1}: w={w}, b={b}, erro_total={erro_total}\")\n",
        "    if erro_total == 0:\n",
        "        print(\"Convergência atingida!\")\n",
        "        break\n"
      ]
    }
  ]
}